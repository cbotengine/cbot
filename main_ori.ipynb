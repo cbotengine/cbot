{
  "cells": [
    {
      "cell_type": "markdown",
      "metadata": {
        "id": "view-in-github",
        "colab_type": "text"
      },
      "source": [
        "<a href=\"https://colab.research.google.com/github/cbotengine/cbot/blob/main/main_ori.ipynb\" target=\"_parent\"><img src=\"https://colab.research.google.com/assets/colab-badge.svg\" alt=\"Open In Colab\"/></a>"
      ]
    },
    {
      "cell_type": "code",
      "execution_count": null,
      "metadata": {
        "colab": {
          "base_uri": "https://localhost:8080/"
        },
        "id": "d2b88897",
        "outputId": "044bd0e0-09fc-4f1a-dcf9-61017723e372",
        "scrolled": true
      },
      "outputs": [
        {
          "output_type": "stream",
          "name": "stdout",
          "text": [
            "\u001b[2K     \u001b[90m━━━━━━━━━━━━━━━━━━━━━━━━━━━━━━━━━━━━━━━━\u001b[0m \u001b[32m9.6/9.6 MB\u001b[0m \u001b[31m69.3 MB/s\u001b[0m eta \u001b[36m0:00:00\u001b[0m\n",
            "\u001b[2K     \u001b[90m━━━━━━━━━━━━━━━━━━━━━━━━━━━━━━━━━━━━━━━\u001b[0m \u001b[32m164.9/164.9 KB\u001b[0m \u001b[31m6.8 MB/s\u001b[0m eta \u001b[36m0:00:00\u001b[0m\n",
            "\u001b[2K     \u001b[90m━━━━━━━━━━━━━━━━━━━━━━━━━━━━━━━━━━━━━━━━\u001b[0m \u001b[32m1.2/1.2 MB\u001b[0m \u001b[31m39.4 MB/s\u001b[0m eta \u001b[36m0:00:00\u001b[0m\n",
            "\u001b[2K     \u001b[90m━━━━━━━━━━━━━━━━━━━━━━━━━━━━━━━━━━━━━━━━\u001b[0m \u001b[32m73.6/73.6 KB\u001b[0m \u001b[31m8.3 MB/s\u001b[0m eta \u001b[36m0:00:00\u001b[0m\n",
            "\u001b[?25h  Preparing metadata (setup.py) ... \u001b[?25l\u001b[?25hdone\n",
            "  Building wheel for unicodecsv (setup.py) ... \u001b[?25l\u001b[?25hdone\n",
            "\u001b[2K     \u001b[90m━━━━━━━━━━━━━━━━━━━━━━━━━━━━━━━━━━━━━━━━\u001b[0m \u001b[32m1.0/1.0 MB\u001b[0m \u001b[31m22.6 MB/s\u001b[0m eta \u001b[36m0:00:00\u001b[0m\n",
            "\u001b[2K     \u001b[90m━━━━━━━━━━━━━━━━━━━━━━━━━━━━━━━━━━━━━━━━\u001b[0m \u001b[32m2.0/2.0 MB\u001b[0m \u001b[31m22.8 MB/s\u001b[0m eta \u001b[36m0:00:00\u001b[0m\n",
            "\u001b[2K     \u001b[90m━━━━━━━━━━━━━━━━━━━━━━━━━━━━━━━━━━━━━━━━\u001b[0m \u001b[32m1.3/1.3 MB\u001b[0m \u001b[31m19.9 MB/s\u001b[0m eta \u001b[36m0:00:00\u001b[0m\n",
            "\u001b[2K     \u001b[90m━━━━━━━━━━━━━━━━━━━━━━━━━━━━━━━━━━━━━━━━\u001b[0m \u001b[32m88.3/88.3 KB\u001b[0m \u001b[31m9.7 MB/s\u001b[0m eta \u001b[36m0:00:00\u001b[0m\n",
            "\u001b[?25h  Preparing metadata (setup.py) ... \u001b[?25l\u001b[?25hdone\n",
            "  Preparing metadata (setup.py) ... \u001b[?25l\u001b[?25hdone\n",
            "\u001b[2K     \u001b[90m━━━━━━━━━━━━━━━━━━━━━━━━━━━━━━━━━━━━━━\u001b[0m \u001b[32m473.8/473.8 KB\u001b[0m \u001b[31m31.9 MB/s\u001b[0m eta \u001b[36m0:00:00\u001b[0m\n",
            "\u001b[?25h  Building wheel for docopt (setup.py) ... \u001b[?25l\u001b[?25hdone\n",
            "  Building wheel for fire (setup.py) ... \u001b[?25l\u001b[?25hdone\n",
            "\u001b[2K     \u001b[90m━━━━━━━━━━━━━━━━━━━━━━━━━━━━━━━━━━━━━━━━\u001b[0m \u001b[32m47.5/47.5 MB\u001b[0m \u001b[31m12.7 MB/s\u001b[0m eta \u001b[36m0:00:00\u001b[0m\n",
            "\u001b[?25h  Installing build dependencies ... \u001b[?25l\u001b[?25hdone\n",
            "  Getting requirements to build wheel ... \u001b[?25l\u001b[?25hdone\n",
            "  Preparing metadata (pyproject.toml) ... \u001b[?25l\u001b[?25hdone\n",
            "\u001b[2K     \u001b[90m━━━━━━━━━━━━━━━━━━━━━━━━━━━━━━━━━━━━━━━━\u001b[0m \u001b[32m1.5/1.5 MB\u001b[0m \u001b[31m58.8 MB/s\u001b[0m eta \u001b[36m0:00:00\u001b[0m\n",
            "\u001b[?25h  Building wheel for phunspell (pyproject.toml) ... \u001b[?25l\u001b[?25hdone\n",
            "\u001b[2K     \u001b[90m━━━━━━━━━━━━━━━━━━━━━━━━━━━━━━━━━━━━━━━━\u001b[0m \u001b[32m2.6/2.6 MB\u001b[0m \u001b[31m38.5 MB/s\u001b[0m eta \u001b[36m0:00:00\u001b[0m\n",
            "\u001b[2K     \u001b[90m━━━━━━━━━━━━━━━━━━━━━━━━━━━━━━━━━━━━━━\u001b[0m \u001b[32m126.9/126.9 KB\u001b[0m \u001b[31m12.4 MB/s\u001b[0m eta \u001b[36m0:00:00\u001b[0m\n",
            "\u001b[?25hLooking in indexes: https://pypi.org/simple, https://us-python.pkg.dev/colab-wheels/public/simple/\n",
            "Collecting newmm-tokenizer\n",
            "  Downloading newmm_tokenizer-0.2.2-py3-none-any.whl (320 kB)\n",
            "\u001b[2K     \u001b[90m━━━━━━━━━━━━━━━━━━━━━━━━━━━━━━━━━━━━━━\u001b[0m \u001b[32m320.6/320.6 KB\u001b[0m \u001b[31m11.0 MB/s\u001b[0m eta \u001b[36m0:00:00\u001b[0m\n",
            "\u001b[?25hInstalling collected packages: newmm-tokenizer\n",
            "Successfully installed newmm-tokenizer-0.2.2\n"
          ]
        }
      ],
      "source": [
        "! pip install pythainlp -q\n",
        "! pip install epitran -q\n",
        "! pip install sklearn_crfsuite -q\n",
        "! pip install tensorflow deepcut -q\n",
        "! pip install attacut -q\n",
        "! pip install phunspell -q\n",
        "! pip install symspellpy -q\n",
        "! pip install newmm-tokenizer\n",
        "\n",
        "! pip install pandas -q\n",
        "! pip install nltk -q\n",
        "! pip install xlrd -q\n",
        "! pip install keras-metrics -q"
      ],
      "id": "d2b88897"
    },
    {
      "cell_type": "code",
      "execution_count": null,
      "metadata": {
        "id": "7bf2fd2f"
      },
      "outputs": [],
      "source": [
        "import pythainlp\n",
        "\n",
        "from pythainlp import Tokenizer, word_tokenize\n",
        "from pythainlp.util import dict_trie\n",
        "from pythainlp.corpus.common import thai_words\n",
        "\n",
        "def word_cut(msg):\n",
        "    \n",
        "    words_list = set(thai_words())\n",
        "    match_word = dict_trie(dict_source=words_list)\n",
        "    custom_tokenizer = Tokenizer(custom_dict=match_word, engine='newmm')\n",
        "    word_cut = custom_tokenizer.word_tokenize(msg)\n",
        "\n",
        "    return word_cut"
      ],
      "id": "7bf2fd2f"
    },
    {
      "cell_type": "code",
      "execution_count": null,
      "metadata": {
        "id": "f6e181e1"
      },
      "outputs": [],
      "source": [
        "import pythainlp\n",
        "import phunspell\n",
        "from pythainlp import correct\n",
        "\n",
        "def word_spell(msg):\n",
        "\n",
        "    word_spell = ''\n",
        "    \n",
        "    for i,word in enumerate(msg):\n",
        "        if word != ' ' and word != '(' and word != ')':\n",
        "            word_spell = word_spell + correct(word, engine='phunspell')\n",
        "        else:\n",
        "            word_spell = word_spell + word\n",
        "\n",
        "    return word_spell"
      ],
      "id": "f6e181e1"
    },
    {
      "cell_type": "code",
      "execution_count": null,
      "metadata": {
        "id": "lAmdv3ZZ-3_K"
      },
      "outputs": [],
      "source": [
        "import pythainlp\n",
        "from pythainlp.tokenize import Tokenizer, word_tokenize\n",
        "from pythainlp.corpus import thai_words, thai_stopwords\n",
        "from pythainlp.util import dict_trie\n",
        "\n",
        "def word_stop(msg):\n",
        "\n",
        "    words_list = set(thai_words())\n",
        "    match_word = dict_trie(dict_source=words_list)\n",
        "    custom_tokenizer = Tokenizer(custom_dict=match_word, engine='newmm')\n",
        "    list_word = custom_tokenizer.word_tokenize(msg)\n",
        "\n",
        "    list_stop = list(thai_stopwords())   \n",
        "    word_stop = [i for i in list_word if i not in list_stop]\n",
        "\n",
        "    return word_stop"
      ],
      "id": "lAmdv3ZZ-3_K"
    },
    {
      "cell_type": "code",
      "source": [
        "###TEST\n",
        "text = \"ไม่ค่อยเข้าใจช่วยอธิบายหน่อย\"\n",
        "msg_word_cut = word_cut(text)\n",
        "msg_word_spell = word_spell(msg_word_cut)\n",
        "msg_word_stop = word_stop(msg_word_spell)\n",
        "\n",
        "print(msg_word_cut)\n",
        "print(msg_word_spell)\n",
        "print(msg_word_stop)"
      ],
      "metadata": {
        "colab": {
          "base_uri": "https://localhost:8080/"
        },
        "id": "pVr1a3SaU0CQ",
        "outputId": "a39047cb-7c88-44b9-ade3-0edc7fa9b231"
      },
      "id": "pVr1a3SaU0CQ",
      "execution_count": null,
      "outputs": [
        {
          "output_type": "stream",
          "name": "stdout",
          "text": [
            "['ไม่ค่อย', 'เข้าใจ', 'ช่วย', 'อธิบาย', 'หน่อย']\n",
            "ไม่ ค่อยเข้าใจช่วยอธิบายหน่อย\n",
            "[' ', 'อธิบาย']\n"
          ]
        }
      ]
    },
    {
      "cell_type": "code",
      "execution_count": null,
      "metadata": {
        "colab": {
          "base_uri": "https://localhost:8080/"
        },
        "id": "bFzn1UYa5aeB",
        "outputId": "3912aac4-2246-4a39-872d-887a2ad072e6"
      },
      "outputs": [
        {
          "output_type": "stream",
          "name": "stderr",
          "text": [
            "[nltk_data] Downloading package omw-1.4 to /root/nltk_data...\n",
            "[nltk_data] Downloading package punkt to /root/nltk_data...\n",
            "[nltk_data]   Unzipping tokenizers/punkt.zip.\n",
            "[nltk_data] Downloading package wordnet to /root/nltk_data...\n"
          ]
        }
      ],
      "source": [
        "import pandas as pd\n",
        "import nltk\n",
        "from nltk.stem import WordNetLemmatizer\n",
        "lemmatizer = WordNetLemmatizer()\n",
        "import json\n",
        "import pickle\n",
        "\n",
        "import numpy as np\n",
        "import tensorflow as tf \n",
        "\n",
        "from tensorflow.keras.models import Sequential\n",
        "from tensorflow.keras.layers import Dense, Activation, Dropout\n",
        "from tensorflow.keras.optimizers import SGD\n",
        "import random\n",
        "\n",
        "\n",
        "#import nltk\n",
        "nltk.download('omw-1.4')\n",
        "nltk.download('punkt')\n",
        "nltk.download('wordnet')\n",
        "\n",
        "words=[]\n",
        "classes = []\n",
        "documents = []\n",
        "ignore_words = ['?', '!']"
      ],
      "id": "bFzn1UYa5aeB"
    },
    {
      "cell_type": "code",
      "execution_count": null,
      "metadata": {
        "id": "TELqNpHbrvA6"
      },
      "outputs": [],
      "source": [
        "intents = {\"intents\": [\n",
        "{\"tag\": \"H1\",\n",
        " \"patterns\":[\"สวัสดี\",\"ดี\",\"ทัก\",\"สวัสดีจ้า\",\"ดีจ้า\"],\n",
        " \"responses\": [\"ชิปป์สไมล์ ยินดีต้อนรับลูกค้าทุกท่านค่ะ ต้องการให้ทางร้านชิปป์สไมล์ช่วยเหลือเรื่องอะไรสามารถสอบถามได้เลยค่ะ\"]},\n",
        "{\"tag\": \"H2\",\n",
        " \"patterns\":[\"ขอบคุณ\",\"ขอบคุณครับ\",\"ขอบคุณค่ะ\"],\n",
        " \"responses\": [\"ร้าน ชิปป์สไมล์ ยินดีให้บริการ\"]},\n",
        "{\"tag\": \"S1\",\n",
        " \"patterns\":[\"ร้านปิดกี่โมง\",\"ร้านเปิดกี่โมง\",\"ร้านปิดตอนไหน\",\"ร้านเปิดตอนไหน\",\"ร้านเปิดแล้วหรือยัง\",\"ไม่ทราบพรุ่งนี้ร้านปิดมั้ยคะ\"], \n",
        " \"responses\": [\"ร้านเปิดให้บริการทุกวัน วันจันทร์ - วันเสาร์ เวลา 8.30 - 18.30 น. วันอาทิตย์ เวลา 9.00 - 17.00 น.\"]},\n",
        "{\"tag\": \"S2\",\n",
        " \"patterns\":[\"มีส่งไปต่างประเทศไหม\",\"ต่างประเทศ\",\"ส่งสินค้าไปต่างประเทศได้ไหม\",\"ส่งไปต่างประเทศมั่ย\",\"ส่งไปต่างประเทศคิดราคายังไง\"], \n",
        " \"responses\": [\"ทางร้านไม่มีขนส่งไปต่างประเทศค่ะ\"]},\n",
        "{\"tag\": \"S3\",\n",
        " \"patterns\":[\"ที่ร้านมีซองกระดาษสีน้ำตาลขนาด 11.5x16.5 ไหม\"], \n",
        " \"responses\": [\"มีค่ะ กระดาษ A3 แบบขนาด 11x17\"]},\n",
        "{\"tag\": \"S4\",\n",
        " \"patterns\":[\"ส่งพัสดุได้ถึงกี่โมง\",\"รอบการส่งพัสดุ\",\"ส่งได้ถึงกี่โมง\",\"รถมาเอาของกี่โมง\",\"วันนี้Flash มารับของกี่โมง\",\"ที่ร้านตัดรอบกี่โมง\"], \n",
        " \"responses\": [\"ทางร้านตัดรอบการจัดส่ง เวลา 14.00 น. ค่ะ\"]},\n",
        "{\"tag\": \"S5\",\n",
        " \"patterns\":[\"ส่งพื้นที่ห่างไกลบวกเพิ่มไหม\",\"พื้นที่ห่างไกล\",\"ส่งไปพื้นที่ห่างไกลได้ไหม\"], \n",
        " \"responses\": [\"ทางร้านรองรับการจัดส่งพื้นที่ห่างไกล ฟรีค่าจัดส่งค่ะ\"]},\n",
        "{\"tag\": \"S6\",\n",
        " \"patterns\":[\"สถานะการจัดส่งพัสดุ\",\"สถานะพัสดุ\",\"สถานะการส่งพัสดุ\",\"สอบถามเลขพัสดุ\",\"สอบถามสถานะการจัดส่งพัสดุค่ะ\",\"พอดียังไม่ได้รับสินค้า\"], \n",
        " \"responses\": [\"ขอเลขบัตรประชาชนเพื่อทำการตรวจสอบเลขพัสดุค่ะ\"]},\n",
        "{\"tag\": \"S7\",\n",
        " \"patterns\":[\"มีบริการปลายทางไหม\",\"มีบริการ COD ไหม\"], \n",
        " \"responses\": [\"ทางร้านมีบริการเก็บเงินปลายทางของ Flash , Kerry , และ Ninja Van ค่ะ\"]},\n",
        "{\"tag\": \"S8\",\n",
        " \"patterns\":[\"สอบถามหน่อย\",\"สอบถาม\",\"ถามหน่อย\"], \n",
        " \"responses\": [\"ต้องการให้ทางร้านชิปป์สไมล์ช่วยเหลือเรื่องอะไร สามารถสอบถามได้เลยค่ะ\"]},\n",
        "{\"tag\": \"S9\",\n",
        " \"patterns\":[\"มีขนส่งอะไรบ้าง\",\"ที่ร้านมีขนส่ง j t มั้ยค่ะ\"], \n",
        " \"responses\": [\"EMS ไปรษณีย์ไทย , Flash Express , Kerry Express , J&T , DHL (ภายในประเทศ) \"]},\n",
        "{\"tag\": \"S10\",\n",
        " \"patterns\":[\"มีพัสดุจัดส่ง แบบสมมุติส่งวันนี้ถึงพรุ่งนี้บ้างไหม\"], \n",
        " \"responses\": [\"แนะนำเป็น Kerry Express ส่วนมากจะถึงในวันถัดไป แต่ต้องส่งก่อนตัดรอบ เวลา 14.00 น.\"]},\n",
        "{\"tag\": \"S11\",\n",
        " \"patterns\":[\"ของ flash ใช้เวลาประมาณกี่วันของถึง\",\"ด่วนพิเศษ ใช้เวลาประมาณกี่วันถึงปลายทาง\",\"ที่ร้านมีส่งด่วนไหม\"], \n",
        " \"responses\": [\"ใช้เวลาการจัดส่งไม่เกิน 3 วันค่ะ\"]},\n",
        "{\"tag\": \"S12\",\n",
        " \"patterns\":[\"บวกค่าเสี่ยงภัยกี่บาท\",\"บวกค่าเสี่ยงภัยราคาเท่าไหร่\",\"ราคาค่าเสี่ยงภัย\",\"ค่าเสี่ยงภัยคิดยังไง\",\"เสี่ยงภัย\"], \n",
        " \"responses\": [\"ค่าเสี่ยงภัยบวก 50 บาทค่ะ\"]},\n",
        "{\"tag\": \"S13\",\n",
        " \"patterns\":[\"ค่าเสี่ยงภัยของไปรษณีย์ไทย\"], \n",
        " \"responses\": [\"ไปรษณีไทยไม่มีค่าเสี่ยงภัย\"]},\n",
        "{\"tag\": \"S14\",\n",
        " \"patterns\":[\"สินค้ามีปัญหาขอรับของคืนได้ไหม\"], \n",
        " \"responses\": [\"หากพัสดุยังไม่ได้จัดส่งสามารถมารับสินค้าคืนได้เลยค่ะ พร้อมนำบัตรประจำตัวประชาชนใช้เพื่อการยกเลิก\"]},\n",
        "{\"tag\": \"S15\",\n",
        " \"patterns\":[\"ทางร้านรับคนละครึ่งไหม\"], \n",
        " \"responses\": [\"ทางร้านไม่เข้าร่วมโครงการคนละครึ่งค่ะ\"]},\n",
        "{\"tag\": \"S16\",\n",
        " \"patterns\":[\"หากเป็นออเดอร์จากช้อปปี้ คือจะส่งฟรีทุกรายการเลยใช่ไหมคะ หรือจำกัดน้ำหนัก\"], \n",
        " \"responses\": [\"ออเดอร์จาก Shopee ส่งฟรีทุกรายการคะ\"]},\n",
        "{\"tag\": \"S17\",\n",
        " \"patterns\":[\"วิธีเช็คยอด COD เช็คยังไง\"], \n",
        " \"responses\": [\"ยอด COD จะมีการแจ้งผ่านทางอีเมลล์ค่ะ\"]},\n",
        "{\"tag\": \"S18\",\n",
        " \"patterns\":[\"ทางร้านสามารถปริ้นได้ไหม\"], \n",
        " \"responses\": [\"สามารถให้ทางร้านปริ้นเอกสารให้ได้ค่ะ\"]},\n",
        "{\"tag\": \"S19\",\n",
        " \"patterns\":[\"เช็คสถานะในระบบได้เมื่อไหร่\",\"พี่เช็คเลขพัสดุ แต่มันบอกไม่พบเลขพัสดุ\"], \n",
        " \"responses\": [\"สามารถเช็คสถานะพัสดุได้ เวลา 11.30 น. ในวันถัดไปหลังจากจัดส่งสินค้าค่ะ\"]},\n",
        "{\"tag\": \"S20\",\n",
        " \"patterns\":[\"ช่วงสงกรานต์ใช้เวลาส่งกี่วันค่ะ\"], \n",
        " \"responses\": [\"ช่วงสงการนต์ ทุกขนส่งจะล่าช้า 1-2 วันค่ะ\"]},\n",
        "{\"tag\": \"S21\",\n",
        " \"patterns\":[\"สินค้าชำรุด สามารถเครมได้ไหม\",\"แปะระวังแตกไว้ แต่พอของถึงพังยับเยินเลย\"], \n",
        " \"responses\": [\"รบกวนขอเลขพัสดุและภาพประกอบ ทางร้านจะรวบรวมและยื่นเครมสินค้าให้ค่ะ\"]},\n",
        "{\"tag\": \"S22\",\n",
        " \"patterns\":[\"ที่ร้านรับถ่ายเอกสารแผ่นละเท่าไหร่\"], \n",
        " \"responses\": [\"ถ่ายเอกสารขาวดำแผ่นละ 1 บาทค่ะ\"]},\n",
        "{\"tag\": \"S23\",\n",
        " \"patterns\":[\"ทางร้านส่งไปรษณีย์ได้ไหม\"], \n",
        " \"responses\": [\"ไปรษณีย์สามารถส่งได้ EMS และ Ecopost ค่ะ\"]},\n",
        "{\"tag\": \"S24\",\n",
        " \"patterns\":[\"ถ้าตีกลับของต้องทำยังไงบ้าง\"], \n",
        " \"responses\": [\"ลูกค้าสามารถปฏิเสธการรับของได้เลยค่ะ\"]},\n",
        "{\"tag\": \"S25\",\n",
        " \"patterns\":[\"ค่าส่งเท่าไหร่\"], \n",
        " \"responses\": [\"ถ้าน้ำหนักไม่เกิน 1Kg. ราคา 20 บาทค่ะ\"]},\n",
        "{\"tag\": \"S26\",\n",
        " \"patterns\":[\"ส่งไปรษณีย์ราคาเท่าไหร่\",\"ส่ง EMS ราคากี่บาท\"], \n",
        " \"responses\": [\"ส่ง EMS ราคา 37 บาทค่ะ\"]},\n",
        "{\"tag\": \"S27\",\n",
        " \"patterns\":[\"มีส่งแบบแช่เย็นไหม\"], \n",
        " \"responses\": [\"ทางร้านยังไม่รับส่งสินค้าแบบแช่เย็นค่ะ\"]},\n",
        "{\"tag\": \"S28\",\n",
        " \"patterns\":[\"มีบับเบิ้ลให้ห่อไหม\"], \n",
        " \"responses\": [\"ทางร้านมีบับเบิ้ลขายค่ะ หากซื้อกล่องกับทางร้านสามารถใช้บับเบิ้ลฟรีได้เลยค่ะ\"]}\n",
        "]}\n"
      ],
      "id": "TELqNpHbrvA6"
    },
    {
      "cell_type": "code",
      "execution_count": null,
      "metadata": {
        "id": "OHX_6h3D6_K4"
      },
      "outputs": [],
      "source": [
        "list_word = []\n",
        "list_class = []\n",
        "\n",
        "for intent in intents['intents']:\n",
        "    for pattern in intent['patterns']:\n",
        "\n",
        "        #tokenize each word\n",
        "        w = nltk.word_tokenize(pattern)\n",
        "        words.extend(w)\n",
        "        #add documents in the corpus\n",
        "        documents.append((w, intent['tag']))\n",
        "\n",
        "        # add to our classes list\n",
        "        if intent['tag'] not in classes:\n",
        "            classes.append(intent['tag'])\n",
        "\n",
        "        list_word.append(intent['patterns'])\n",
        "        list_class.append(intent['tag'])\n",
        "\n",
        "#documents\n",
        "#classes"
      ],
      "id": "OHX_6h3D6_K4"
    },
    {
      "cell_type": "code",
      "execution_count": null,
      "metadata": {
        "colab": {
          "base_uri": "https://localhost:8080/"
        },
        "id": "HH9JVj7v8GJH",
        "outputId": "434c47e8-584d-4b7b-88ff-3449015ec868"
      },
      "outputs": [
        {
          "output_type": "stream",
          "name": "stdout",
          "text": [
            "70 documents\n",
            "30 classes ['H1', 'H2', 'S1', 'S10', 'S11', 'S12', 'S13', 'S14', 'S15', 'S16', 'S17', 'S18', 'S19', 'S2', 'S20', 'S21', 'S22', 'S23', 'S24', 'S25', 'S26', 'S27', 'S28', 'S3', 'S4', 'S5', 'S6', 'S7', 'S8', 'S9']\n",
            "89 unique lemmatized words ['11.5x16.5', 'cod', 'em', 'flash', 'j', 't', 'ของ', 'ขอบคุณ', 'ขอบคุณครับ', 'ขอบคุณค่ะ', 'คือจะส่งฟรีทุกรายการเลยใช่ไหมคะ', 'ค่าส่งเท่าไหร่', 'ค่าเสี่ยงภัยของไปรษณีย์ไทย', 'ค่าเสี่ยงภัยคิดยังไง', 'ช่วงสงกรานต์ใช้เวลาส่งกี่วันค่ะ', 'ดี', 'ดีจ้า', 'ด่วนพิเศษ', 'ต่างประเทศ', 'ถามหน่อย', 'ถ้าตีกลับของต้องทำยังไงบ้าง', 'ทัก', 'ทางร้านรับคนละครึ่งไหม', 'ทางร้านสามารถปริ้นได้ไหม', 'ทางร้านส่งไปรษณีย์ได้ไหม', 'ที่ร้านตัดรอบกี่โมง', 'ที่ร้านมีขนส่ง', 'ที่ร้านมีซองกระดาษสีน้ำตาลขนาด', 'ที่ร้านมีส่งด่วนไหม', 'ที่ร้านรับถ่ายเอกสารแผ่นละเท่าไหร่', 'บวกค่าเสี่ยงภัยกี่บาท', 'บวกค่าเสี่ยงภัยราคาเท่าไหร่', 'พอดียังไม่ได้รับสินค้า', 'พี่เช็คเลขพัสดุ', 'พื้นที่ห่างไกล', 'มั้ยค่ะ', 'มารับของกี่โมง', 'มีขนส่งอะไรบ้าง', 'มีบริการ', 'มีบริการปลายทางไหม', 'มีบับเบิ้ลให้ห่อไหม', 'มีพัสดุจัดส่ง', 'มีส่งแบบแช่เย็นไหม', 'มีส่งไปต่างประเทศไหม', 'รถมาเอาของกี่โมง', 'รอบการส่งพัสดุ', 'ราคากี่บาท', 'ราคาค่าเสี่ยงภัย', 'ร้านปิดกี่โมง', 'ร้านปิดตอนไหน', 'ร้านเปิดกี่โมง', 'ร้านเปิดตอนไหน', 'ร้านเปิดแล้วหรือยัง', 'วันนี้flash', 'วิธีเช็คยอด', 'สถานะการจัดส่งพัสดุ', 'สถานะการส่งพัสดุ', 'สถานะพัสดุ', 'สวัสดี', 'สวัสดีจ้า', 'สอบถาม', 'สอบถามสถานะการจัดส่งพัสดุค่ะ', 'สอบถามหน่อย', 'สอบถามเลขพัสดุ', 'สามารถเครมได้ไหม', 'สินค้าชำรุด', 'สินค้ามีปัญหาขอรับของคืนได้ไหม', 'ส่ง', 'ส่งพัสดุได้ถึงกี่โมง', 'ส่งพื้นที่ห่างไกลบวกเพิ่มไหม', 'ส่งสินค้าไปต่างประเทศได้ไหม', 'ส่งได้ถึงกี่โมง', 'ส่งไปต่างประเทศคิดราคายังไง', 'ส่งไปต่างประเทศมั่ย', 'ส่งไปพื้นที่ห่างไกลได้ไหม', 'ส่งไปรษณีย์ราคาเท่าไหร่', 'หรือจำกัดน้ำหนัก', 'หากเป็นออเดอร์จากช้อปปี้', 'เช็คยังไง', 'เช็คสถานะในระบบได้เมื่อไหร่', 'เสี่ยงภัย', 'แต่พอของถึงพังยับเยินเลย', 'แต่มันบอกไม่พบเลขพัสดุ', 'แบบสมมุติส่งวันนี้ถึงพรุ่งนี้บ้างไหม', 'แปะระวังแตกไว้', 'ใช้เวลาประมาณกี่วันของถึง', 'ใช้เวลาประมาณกี่วันถึงปลายทาง', 'ไม่ทราบพรุ่งนี้ร้านปิดมั้ยคะ', 'ไหม']\n"
          ]
        }
      ],
      "source": [
        "# lemmatize, lower each word and remove duplicates\n",
        "words = [lemmatizer.lemmatize(w.lower()) for w in words if w not in ignore_words]\n",
        "words = sorted(list(set(words)))\n",
        "# sort classes\n",
        "classes = sorted(list(set(classes)))\n",
        "# documents = combination between patterns and intents\n",
        "print (len(documents), \"documents\")\n",
        "# classes = intents\n",
        "print (len(classes), \"classes\", classes)\n",
        "# words = all words, vocabulary\n",
        "print (len(words), \"unique lemmatized words\", words)\n",
        "\n",
        "pickle.dump(words,open('words.pkl','wb'))\n",
        "pickle.dump(classes,open('classes.pkl','wb'))"
      ],
      "id": "HH9JVj7v8GJH"
    },
    {
      "cell_type": "code",
      "execution_count": null,
      "metadata": {
        "colab": {
          "base_uri": "https://localhost:8080/"
        },
        "id": "YxM6krvH8Mpw",
        "outputId": "cd549a74-8119-4db7-bda8-bef73b502054"
      },
      "outputs": [
        {
          "output_type": "stream",
          "name": "stdout",
          "text": [
            "Training data created\n"
          ]
        }
      ],
      "source": [
        "# create our training data\n",
        "training = []\n",
        "# create an empty array for our output\n",
        "output_empty = [0] * len(classes)\n",
        "# training set, bag of words for each sentence\n",
        "for doc in documents:\n",
        "    # initialize our bag of words\n",
        "    bag = []\n",
        "    # list of tokenized words for the pattern\n",
        "    pattern_words = doc[0]\n",
        "    # lemmatize each word - create base word, in attempt to represent related words\n",
        "    pattern_words = [lemmatizer.lemmatize(word.lower()) for word in pattern_words]\n",
        "    # create our bag of words array with 1, if word match found in current pattern\n",
        "    for w in words:\n",
        "        bag.append(1) if w in pattern_words else bag.append(0)\n",
        "\n",
        "    # output is a '0' for each tag and '1' for current tag (for each pattern)\n",
        "    output_row = list(output_empty)\n",
        "    output_row[classes.index(doc[1])] = 1\n",
        "\n",
        "    training.append([bag, output_row])\n",
        "# shuffle our features and turn into np.array\n",
        "random.shuffle(training)\n",
        "training = np.array(training, dtype=object)\n",
        "# create train and test lists. X - patterns, Y - intents\n",
        "train_x = list(training[:,0])\n",
        "train_y = list(training[:,1])\n",
        "print(\"Training data created\")"
      ],
      "id": "YxM6krvH8Mpw"
    },
    {
      "cell_type": "code",
      "execution_count": null,
      "metadata": {
        "id": "ZJhWTXnt8xkl"
      },
      "outputs": [],
      "source": [
        "import nltk\n",
        "from nltk.stem import WordNetLemmatizer\n",
        "lemmatizer = WordNetLemmatizer()\n",
        "import pickle\n",
        "import numpy as np\n",
        "\n",
        "from tensorflow.keras.models import load_model\n",
        "#model = load_model('chatbot_model.h5')\n",
        "model = load_model('chatbot_model.h5')\n",
        "import json\n",
        "import random\n",
        "#intents = json.loads(open('intents.json').read())\n",
        "words = pickle.load(open('words.pkl','rb'))\n",
        "classes = pickle.load(open('classes.pkl','rb'))"
      ],
      "id": "ZJhWTXnt8xkl"
    },
    {
      "cell_type": "code",
      "execution_count": null,
      "metadata": {
        "id": "H_HgACDw80ZU",
        "colab": {
          "base_uri": "https://localhost:8080/"
        },
        "outputId": "60d28b89-a3f1-4a2c-b019-1dd238fe9e0f"
      },
      "outputs": [
        {
          "output_type": "stream",
          "name": "stderr",
          "text": [
            "/usr/local/lib/python3.8/dist-packages/keras/optimizers/optimizer_v2/gradient_descent.py:108: UserWarning: The `lr` argument is deprecated, use `learning_rate` instead.\n",
            "  super(SGD, self).__init__(name, **kwargs)\n"
          ]
        },
        {
          "output_type": "stream",
          "name": "stdout",
          "text": [
            "Epoch 1/200\n",
            "14/14 [==============================] - 1s 2ms/step - loss: 3.4364 - accuracy: 0.0143\n",
            "Epoch 2/200\n",
            "14/14 [==============================] - 0s 2ms/step - loss: 3.3768 - accuracy: 0.0571\n",
            "Epoch 3/200\n",
            "14/14 [==============================] - 0s 2ms/step - loss: 3.3199 - accuracy: 0.1143\n",
            "Epoch 4/200\n",
            "14/14 [==============================] - 0s 2ms/step - loss: 3.2934 - accuracy: 0.0714\n",
            "Epoch 5/200\n",
            "14/14 [==============================] - 0s 2ms/step - loss: 3.2368 - accuracy: 0.0857\n",
            "Epoch 6/200\n",
            "14/14 [==============================] - 0s 2ms/step - loss: 3.1984 - accuracy: 0.1000\n",
            "Epoch 7/200\n",
            "14/14 [==============================] - 0s 2ms/step - loss: 3.2217 - accuracy: 0.1143\n",
            "Epoch 8/200\n",
            "14/14 [==============================] - 0s 2ms/step - loss: 3.1531 - accuracy: 0.1286\n",
            "Epoch 9/200\n",
            "14/14 [==============================] - 0s 2ms/step - loss: 3.0945 - accuracy: 0.1286\n",
            "Epoch 10/200\n",
            "14/14 [==============================] - 0s 2ms/step - loss: 3.1036 - accuracy: 0.1429\n",
            "Epoch 11/200\n",
            "14/14 [==============================] - 0s 2ms/step - loss: 3.1012 - accuracy: 0.1000\n",
            "Epoch 12/200\n",
            "14/14 [==============================] - 0s 2ms/step - loss: 3.0547 - accuracy: 0.1286\n",
            "Epoch 13/200\n",
            "14/14 [==============================] - 0s 3ms/step - loss: 2.9751 - accuracy: 0.1571\n",
            "Epoch 14/200\n",
            "14/14 [==============================] - 0s 2ms/step - loss: 2.9574 - accuracy: 0.1857\n",
            "Epoch 15/200\n",
            "14/14 [==============================] - 0s 2ms/step - loss: 2.9952 - accuracy: 0.1714\n",
            "Epoch 16/200\n",
            "14/14 [==============================] - 0s 2ms/step - loss: 2.9572 - accuracy: 0.1857\n",
            "Epoch 17/200\n",
            "14/14 [==============================] - 0s 2ms/step - loss: 2.8885 - accuracy: 0.1714\n",
            "Epoch 18/200\n",
            "14/14 [==============================] - 0s 2ms/step - loss: 2.8944 - accuracy: 0.1286\n",
            "Epoch 19/200\n",
            "14/14 [==============================] - 0s 2ms/step - loss: 2.7606 - accuracy: 0.2286\n",
            "Epoch 20/200\n",
            "14/14 [==============================] - 0s 2ms/step - loss: 2.8241 - accuracy: 0.2143\n",
            "Epoch 21/200\n",
            "14/14 [==============================] - 0s 2ms/step - loss: 2.6935 - accuracy: 0.3000\n",
            "Epoch 22/200\n",
            "14/14 [==============================] - 0s 2ms/step - loss: 2.5667 - accuracy: 0.2571\n",
            "Epoch 23/200\n",
            "14/14 [==============================] - 0s 2ms/step - loss: 2.4918 - accuracy: 0.3571\n",
            "Epoch 24/200\n",
            "14/14 [==============================] - 0s 2ms/step - loss: 2.5076 - accuracy: 0.3286\n",
            "Epoch 25/200\n",
            "14/14 [==============================] - 0s 2ms/step - loss: 2.3964 - accuracy: 0.3714\n",
            "Epoch 26/200\n",
            "14/14 [==============================] - 0s 2ms/step - loss: 2.3554 - accuracy: 0.3286\n",
            "Epoch 27/200\n",
            "14/14 [==============================] - 0s 2ms/step - loss: 2.4245 - accuracy: 0.3857\n",
            "Epoch 28/200\n",
            "14/14 [==============================] - 0s 2ms/step - loss: 2.4111 - accuracy: 0.3857\n",
            "Epoch 29/200\n",
            "14/14 [==============================] - 0s 2ms/step - loss: 2.1167 - accuracy: 0.4143\n",
            "Epoch 30/200\n",
            "14/14 [==============================] - 0s 2ms/step - loss: 2.1254 - accuracy: 0.4429\n",
            "Epoch 31/200\n",
            "14/14 [==============================] - 0s 2ms/step - loss: 2.2148 - accuracy: 0.3714\n",
            "Epoch 32/200\n",
            "14/14 [==============================] - 0s 2ms/step - loss: 2.0674 - accuracy: 0.4571\n",
            "Epoch 33/200\n",
            "14/14 [==============================] - 0s 2ms/step - loss: 1.9091 - accuracy: 0.5143\n",
            "Epoch 34/200\n",
            "14/14 [==============================] - 0s 2ms/step - loss: 1.8281 - accuracy: 0.4714\n",
            "Epoch 35/200\n",
            "14/14 [==============================] - 0s 2ms/step - loss: 1.6755 - accuracy: 0.6000\n",
            "Epoch 36/200\n",
            "14/14 [==============================] - 0s 2ms/step - loss: 1.7881 - accuracy: 0.5143\n",
            "Epoch 37/200\n",
            "14/14 [==============================] - 0s 3ms/step - loss: 1.5096 - accuracy: 0.6143\n",
            "Epoch 38/200\n",
            "14/14 [==============================] - 0s 2ms/step - loss: 1.4476 - accuracy: 0.6571\n",
            "Epoch 39/200\n",
            "14/14 [==============================] - 0s 2ms/step - loss: 1.4101 - accuracy: 0.6571\n",
            "Epoch 40/200\n",
            "14/14 [==============================] - 0s 2ms/step - loss: 1.3493 - accuracy: 0.7000\n",
            "Epoch 41/200\n",
            "14/14 [==============================] - 0s 2ms/step - loss: 1.2119 - accuracy: 0.6857\n",
            "Epoch 42/200\n",
            "14/14 [==============================] - 0s 2ms/step - loss: 1.2446 - accuracy: 0.7143\n",
            "Epoch 43/200\n",
            "14/14 [==============================] - 0s 2ms/step - loss: 1.2155 - accuracy: 0.6429\n",
            "Epoch 44/200\n",
            "14/14 [==============================] - 0s 2ms/step - loss: 1.2605 - accuracy: 0.7143\n",
            "Epoch 45/200\n",
            "14/14 [==============================] - 0s 2ms/step - loss: 1.2473 - accuracy: 0.6000\n",
            "Epoch 46/200\n",
            "14/14 [==============================] - 0s 2ms/step - loss: 1.1519 - accuracy: 0.7571\n",
            "Epoch 47/200\n",
            "14/14 [==============================] - 0s 3ms/step - loss: 1.0365 - accuracy: 0.7286\n",
            "Epoch 48/200\n",
            "14/14 [==============================] - 0s 2ms/step - loss: 1.1090 - accuracy: 0.7000\n",
            "Epoch 49/200\n",
            "14/14 [==============================] - 0s 2ms/step - loss: 1.0921 - accuracy: 0.6857\n",
            "Epoch 50/200\n",
            "14/14 [==============================] - 0s 2ms/step - loss: 0.9021 - accuracy: 0.7857\n",
            "Epoch 51/200\n",
            "14/14 [==============================] - 0s 2ms/step - loss: 0.8901 - accuracy: 0.7714\n",
            "Epoch 52/200\n",
            "14/14 [==============================] - 0s 2ms/step - loss: 0.8936 - accuracy: 0.7857\n",
            "Epoch 53/200\n",
            "14/14 [==============================] - 0s 2ms/step - loss: 0.9889 - accuracy: 0.7286\n",
            "Epoch 54/200\n",
            "14/14 [==============================] - 0s 2ms/step - loss: 0.9882 - accuracy: 0.6857\n",
            "Epoch 55/200\n",
            "14/14 [==============================] - 0s 2ms/step - loss: 0.7471 - accuracy: 0.8286\n",
            "Epoch 56/200\n",
            "14/14 [==============================] - 0s 2ms/step - loss: 0.7492 - accuracy: 0.8429\n",
            "Epoch 57/200\n",
            "14/14 [==============================] - 0s 2ms/step - loss: 0.6854 - accuracy: 0.8429\n",
            "Epoch 58/200\n",
            "14/14 [==============================] - 0s 2ms/step - loss: 0.5528 - accuracy: 0.9286\n",
            "Epoch 59/200\n",
            "14/14 [==============================] - 0s 2ms/step - loss: 0.7445 - accuracy: 0.8286\n",
            "Epoch 60/200\n",
            "14/14 [==============================] - 0s 2ms/step - loss: 0.6924 - accuracy: 0.8000\n",
            "Epoch 61/200\n",
            "14/14 [==============================] - 0s 2ms/step - loss: 0.6532 - accuracy: 0.8143\n",
            "Epoch 62/200\n",
            "14/14 [==============================] - 0s 2ms/step - loss: 0.6206 - accuracy: 0.8571\n",
            "Epoch 63/200\n",
            "14/14 [==============================] - 0s 2ms/step - loss: 0.5766 - accuracy: 0.8571\n",
            "Epoch 64/200\n",
            "14/14 [==============================] - 0s 2ms/step - loss: 0.5849 - accuracy: 0.8714\n",
            "Epoch 65/200\n",
            "14/14 [==============================] - 0s 2ms/step - loss: 0.6683 - accuracy: 0.8429\n",
            "Epoch 66/200\n",
            "14/14 [==============================] - 0s 2ms/step - loss: 0.6510 - accuracy: 0.8143\n",
            "Epoch 67/200\n",
            "14/14 [==============================] - 0s 3ms/step - loss: 0.6378 - accuracy: 0.8286\n",
            "Epoch 68/200\n",
            "14/14 [==============================] - 0s 2ms/step - loss: 0.6319 - accuracy: 0.7857\n",
            "Epoch 69/200\n",
            "14/14 [==============================] - 0s 2ms/step - loss: 0.4008 - accuracy: 0.9286\n",
            "Epoch 70/200\n",
            "14/14 [==============================] - 0s 2ms/step - loss: 0.4612 - accuracy: 0.9000\n",
            "Epoch 71/200\n",
            "14/14 [==============================] - 0s 2ms/step - loss: 0.5278 - accuracy: 0.9000\n",
            "Epoch 72/200\n",
            "14/14 [==============================] - 0s 2ms/step - loss: 0.4880 - accuracy: 0.8571\n",
            "Epoch 73/200\n",
            "14/14 [==============================] - 0s 2ms/step - loss: 0.4675 - accuracy: 0.9143\n",
            "Epoch 74/200\n",
            "14/14 [==============================] - 0s 2ms/step - loss: 0.3734 - accuracy: 0.8857\n",
            "Epoch 75/200\n",
            "14/14 [==============================] - 0s 2ms/step - loss: 0.5019 - accuracy: 0.8286\n",
            "Epoch 76/200\n",
            "14/14 [==============================] - 0s 2ms/step - loss: 0.5203 - accuracy: 0.8714\n",
            "Epoch 77/200\n",
            "14/14 [==============================] - 0s 2ms/step - loss: 0.5863 - accuracy: 0.8429\n",
            "Epoch 78/200\n",
            "14/14 [==============================] - 0s 2ms/step - loss: 0.4710 - accuracy: 0.8857\n",
            "Epoch 79/200\n",
            "14/14 [==============================] - 0s 2ms/step - loss: 0.4384 - accuracy: 0.8857\n",
            "Epoch 80/200\n",
            "14/14 [==============================] - 0s 2ms/step - loss: 0.4026 - accuracy: 0.9143\n",
            "Epoch 81/200\n",
            "14/14 [==============================] - 0s 2ms/step - loss: 0.3848 - accuracy: 0.9000\n",
            "Epoch 82/200\n",
            "14/14 [==============================] - 0s 2ms/step - loss: 0.4142 - accuracy: 0.8857\n",
            "Epoch 83/200\n",
            "14/14 [==============================] - 0s 2ms/step - loss: 0.4478 - accuracy: 0.9000\n",
            "Epoch 84/200\n",
            "14/14 [==============================] - 0s 2ms/step - loss: 0.3618 - accuracy: 0.9143\n",
            "Epoch 85/200\n",
            "14/14 [==============================] - 0s 2ms/step - loss: 0.4200 - accuracy: 0.8857\n",
            "Epoch 86/200\n",
            "14/14 [==============================] - 0s 2ms/step - loss: 0.2694 - accuracy: 0.9429\n",
            "Epoch 87/200\n",
            "14/14 [==============================] - 0s 2ms/step - loss: 0.3598 - accuracy: 0.9286\n",
            "Epoch 88/200\n",
            "14/14 [==============================] - 0s 2ms/step - loss: 0.3784 - accuracy: 0.9143\n",
            "Epoch 89/200\n",
            "14/14 [==============================] - 0s 2ms/step - loss: 0.2941 - accuracy: 0.9571\n",
            "Epoch 90/200\n",
            "14/14 [==============================] - 0s 2ms/step - loss: 0.2971 - accuracy: 0.9429\n",
            "Epoch 91/200\n",
            "14/14 [==============================] - 0s 2ms/step - loss: 0.4353 - accuracy: 0.9000\n",
            "Epoch 92/200\n",
            "14/14 [==============================] - 0s 2ms/step - loss: 0.4420 - accuracy: 0.9143\n",
            "Epoch 93/200\n",
            "14/14 [==============================] - 0s 2ms/step - loss: 0.2150 - accuracy: 0.9714\n",
            "Epoch 94/200\n",
            "14/14 [==============================] - 0s 2ms/step - loss: 0.3290 - accuracy: 0.9000\n",
            "Epoch 95/200\n",
            "14/14 [==============================] - 0s 3ms/step - loss: 0.3089 - accuracy: 0.9143\n",
            "Epoch 96/200\n",
            "14/14 [==============================] - 0s 2ms/step - loss: 0.2271 - accuracy: 0.9714\n",
            "Epoch 97/200\n",
            "14/14 [==============================] - 0s 2ms/step - loss: 0.2731 - accuracy: 0.9429\n",
            "Epoch 98/200\n",
            "14/14 [==============================] - 0s 2ms/step - loss: 0.3052 - accuracy: 0.9429\n",
            "Epoch 99/200\n",
            "14/14 [==============================] - 0s 2ms/step - loss: 0.3520 - accuracy: 0.8857\n",
            "Epoch 100/200\n",
            "14/14 [==============================] - 0s 2ms/step - loss: 0.5699 - accuracy: 0.8286\n",
            "Epoch 101/200\n",
            "14/14 [==============================] - 0s 2ms/step - loss: 0.2372 - accuracy: 0.9571\n",
            "Epoch 102/200\n",
            "14/14 [==============================] - 0s 2ms/step - loss: 0.3051 - accuracy: 0.9571\n",
            "Epoch 103/200\n",
            "14/14 [==============================] - 0s 2ms/step - loss: 0.3869 - accuracy: 0.9143\n",
            "Epoch 104/200\n",
            "14/14 [==============================] - 0s 2ms/step - loss: 0.2402 - accuracy: 0.9714\n",
            "Epoch 105/200\n",
            "14/14 [==============================] - 0s 2ms/step - loss: 0.2961 - accuracy: 0.9571\n",
            "Epoch 106/200\n",
            "14/14 [==============================] - 0s 2ms/step - loss: 0.2379 - accuracy: 0.9714\n",
            "Epoch 107/200\n",
            "14/14 [==============================] - 0s 2ms/step - loss: 0.1870 - accuracy: 0.9714\n",
            "Epoch 108/200\n",
            "14/14 [==============================] - 0s 2ms/step - loss: 0.3380 - accuracy: 0.9143\n",
            "Epoch 109/200\n",
            "14/14 [==============================] - 0s 2ms/step - loss: 0.2912 - accuracy: 0.9286\n",
            "Epoch 110/200\n",
            "14/14 [==============================] - 0s 2ms/step - loss: 0.3318 - accuracy: 0.9143\n",
            "Epoch 111/200\n",
            "14/14 [==============================] - 0s 2ms/step - loss: 0.3393 - accuracy: 0.9000\n",
            "Epoch 112/200\n",
            "14/14 [==============================] - 0s 2ms/step - loss: 0.2450 - accuracy: 0.9857\n",
            "Epoch 113/200\n",
            "14/14 [==============================] - 0s 2ms/step - loss: 0.3183 - accuracy: 0.9000\n",
            "Epoch 114/200\n",
            "14/14 [==============================] - 0s 2ms/step - loss: 0.2223 - accuracy: 0.9571\n",
            "Epoch 115/200\n",
            "14/14 [==============================] - 0s 2ms/step - loss: 0.1872 - accuracy: 0.9571\n",
            "Epoch 116/200\n",
            "14/14 [==============================] - 0s 2ms/step - loss: 0.2062 - accuracy: 0.9429\n",
            "Epoch 117/200\n",
            "14/14 [==============================] - 0s 2ms/step - loss: 0.2316 - accuracy: 0.9571\n",
            "Epoch 118/200\n",
            "14/14 [==============================] - 0s 2ms/step - loss: 0.2269 - accuracy: 0.9714\n",
            "Epoch 119/200\n",
            "14/14 [==============================] - 0s 3ms/step - loss: 0.2085 - accuracy: 0.9429\n",
            "Epoch 120/200\n",
            "14/14 [==============================] - 0s 2ms/step - loss: 0.2688 - accuracy: 0.9286\n",
            "Epoch 121/200\n",
            "14/14 [==============================] - 0s 2ms/step - loss: 0.2407 - accuracy: 0.9429\n",
            "Epoch 122/200\n",
            "14/14 [==============================] - 0s 2ms/step - loss: 0.1806 - accuracy: 0.9714\n",
            "Epoch 123/200\n",
            "14/14 [==============================] - 0s 2ms/step - loss: 0.2518 - accuracy: 0.9571\n",
            "Epoch 124/200\n",
            "14/14 [==============================] - 0s 2ms/step - loss: 0.1225 - accuracy: 0.9714\n",
            "Epoch 125/200\n",
            "14/14 [==============================] - 0s 2ms/step - loss: 0.2487 - accuracy: 0.9143\n",
            "Epoch 126/200\n",
            "14/14 [==============================] - 0s 2ms/step - loss: 0.2061 - accuracy: 0.9429\n",
            "Epoch 127/200\n",
            "14/14 [==============================] - 0s 2ms/step - loss: 0.1023 - accuracy: 0.9857\n",
            "Epoch 128/200\n",
            "14/14 [==============================] - 0s 2ms/step - loss: 0.1881 - accuracy: 0.9429\n",
            "Epoch 129/200\n",
            "14/14 [==============================] - 0s 2ms/step - loss: 0.2216 - accuracy: 0.9429\n",
            "Epoch 130/200\n",
            "14/14 [==============================] - 0s 2ms/step - loss: 0.2034 - accuracy: 0.9857\n",
            "Epoch 131/200\n",
            "14/14 [==============================] - 0s 2ms/step - loss: 0.2156 - accuracy: 0.9286\n",
            "Epoch 132/200\n",
            "14/14 [==============================] - 0s 2ms/step - loss: 0.2085 - accuracy: 0.9429\n",
            "Epoch 133/200\n",
            "14/14 [==============================] - 0s 2ms/step - loss: 0.2334 - accuracy: 0.9429\n",
            "Epoch 134/200\n",
            "14/14 [==============================] - 0s 2ms/step - loss: 0.2344 - accuracy: 0.9000\n",
            "Epoch 135/200\n",
            "14/14 [==============================] - 0s 2ms/step - loss: 0.2426 - accuracy: 0.9286\n",
            "Epoch 136/200\n",
            "14/14 [==============================] - 0s 2ms/step - loss: 0.1422 - accuracy: 0.9714\n",
            "Epoch 137/200\n",
            "14/14 [==============================] - 0s 2ms/step - loss: 0.1125 - accuracy: 0.9714\n",
            "Epoch 138/200\n",
            "14/14 [==============================] - 0s 2ms/step - loss: 0.1561 - accuracy: 0.9857\n",
            "Epoch 139/200\n",
            "14/14 [==============================] - 0s 2ms/step - loss: 0.1498 - accuracy: 0.9571\n",
            "Epoch 140/200\n",
            "14/14 [==============================] - 0s 2ms/step - loss: 0.1807 - accuracy: 0.9714\n",
            "Epoch 141/200\n",
            "14/14 [==============================] - 0s 2ms/step - loss: 0.1884 - accuracy: 0.9429\n",
            "Epoch 142/200\n",
            "14/14 [==============================] - 0s 2ms/step - loss: 0.2020 - accuracy: 0.9714\n",
            "Epoch 143/200\n",
            "14/14 [==============================] - 0s 2ms/step - loss: 0.2571 - accuracy: 0.9000\n",
            "Epoch 144/200\n",
            "14/14 [==============================] - 0s 2ms/step - loss: 0.2526 - accuracy: 0.9143\n",
            "Epoch 145/200\n",
            "14/14 [==============================] - 0s 2ms/step - loss: 0.1551 - accuracy: 0.9714\n",
            "Epoch 146/200\n",
            "14/14 [==============================] - 0s 2ms/step - loss: 0.1738 - accuracy: 0.9714\n",
            "Epoch 147/200\n",
            "14/14 [==============================] - 0s 2ms/step - loss: 0.1482 - accuracy: 0.9714\n",
            "Epoch 148/200\n",
            "14/14 [==============================] - 0s 2ms/step - loss: 0.1539 - accuracy: 0.9429\n",
            "Epoch 149/200\n",
            "14/14 [==============================] - 0s 2ms/step - loss: 0.1460 - accuracy: 0.9714\n",
            "Epoch 150/200\n",
            "14/14 [==============================] - 0s 3ms/step - loss: 0.2220 - accuracy: 0.9286\n",
            "Epoch 151/200\n",
            "14/14 [==============================] - 0s 2ms/step - loss: 0.1022 - accuracy: 0.9857\n",
            "Epoch 152/200\n",
            "14/14 [==============================] - 0s 2ms/step - loss: 0.1534 - accuracy: 0.9714\n",
            "Epoch 153/200\n",
            "14/14 [==============================] - 0s 2ms/step - loss: 0.1536 - accuracy: 0.9571\n",
            "Epoch 154/200\n",
            "14/14 [==============================] - 0s 2ms/step - loss: 0.2739 - accuracy: 0.9286\n",
            "Epoch 155/200\n",
            "14/14 [==============================] - 0s 2ms/step - loss: 0.2724 - accuracy: 0.9000\n",
            "Epoch 156/200\n",
            "14/14 [==============================] - 0s 2ms/step - loss: 0.1824 - accuracy: 0.9429\n",
            "Epoch 157/200\n",
            "14/14 [==============================] - 0s 2ms/step - loss: 0.1156 - accuracy: 0.9571\n",
            "Epoch 158/200\n",
            "14/14 [==============================] - 0s 2ms/step - loss: 0.2189 - accuracy: 0.9571\n",
            "Epoch 159/200\n",
            "14/14 [==============================] - 0s 2ms/step - loss: 0.1219 - accuracy: 0.9714\n",
            "Epoch 160/200\n",
            "14/14 [==============================] - 0s 2ms/step - loss: 0.1697 - accuracy: 0.9429\n",
            "Epoch 161/200\n",
            "14/14 [==============================] - 0s 2ms/step - loss: 0.1321 - accuracy: 0.9857\n",
            "Epoch 162/200\n",
            "14/14 [==============================] - 0s 2ms/step - loss: 0.1775 - accuracy: 0.9429\n",
            "Epoch 163/200\n",
            "14/14 [==============================] - 0s 2ms/step - loss: 0.1093 - accuracy: 0.9857\n",
            "Epoch 164/200\n",
            "14/14 [==============================] - 0s 2ms/step - loss: 0.1601 - accuracy: 0.9286\n",
            "Epoch 165/200\n",
            "14/14 [==============================] - 0s 2ms/step - loss: 0.2666 - accuracy: 0.9143\n",
            "Epoch 166/200\n",
            "14/14 [==============================] - 0s 2ms/step - loss: 0.1666 - accuracy: 0.9429\n",
            "Epoch 167/200\n",
            "14/14 [==============================] - 0s 2ms/step - loss: 0.1280 - accuracy: 0.9714\n",
            "Epoch 168/200\n",
            "14/14 [==============================] - 0s 2ms/step - loss: 0.1164 - accuracy: 0.9857\n",
            "Epoch 169/200\n",
            "14/14 [==============================] - 0s 2ms/step - loss: 0.1507 - accuracy: 0.9429\n",
            "Epoch 170/200\n",
            "14/14 [==============================] - 0s 2ms/step - loss: 0.1273 - accuracy: 0.9571\n",
            "Epoch 171/200\n",
            "14/14 [==============================] - 0s 2ms/step - loss: 0.1970 - accuracy: 0.9571\n",
            "Epoch 172/200\n",
            "14/14 [==============================] - 0s 2ms/step - loss: 0.1538 - accuracy: 0.9714\n",
            "Epoch 173/200\n",
            "14/14 [==============================] - 0s 2ms/step - loss: 0.0860 - accuracy: 0.9571\n",
            "Epoch 174/200\n",
            "14/14 [==============================] - 0s 2ms/step - loss: 0.1490 - accuracy: 0.9429\n",
            "Epoch 175/200\n",
            "14/14 [==============================] - 0s 2ms/step - loss: 0.2016 - accuracy: 0.9286\n",
            "Epoch 176/200\n",
            "14/14 [==============================] - 0s 3ms/step - loss: 0.0913 - accuracy: 1.0000\n",
            "Epoch 177/200\n",
            "14/14 [==============================] - 0s 2ms/step - loss: 0.1621 - accuracy: 0.9286\n",
            "Epoch 178/200\n",
            "14/14 [==============================] - 0s 2ms/step - loss: 0.1231 - accuracy: 0.9571\n",
            "Epoch 179/200\n",
            "14/14 [==============================] - 0s 2ms/step - loss: 0.1123 - accuracy: 0.9714\n",
            "Epoch 180/200\n",
            "14/14 [==============================] - 0s 2ms/step - loss: 0.1925 - accuracy: 0.9286\n",
            "Epoch 181/200\n",
            "14/14 [==============================] - 0s 2ms/step - loss: 0.1997 - accuracy: 0.9429\n",
            "Epoch 182/200\n",
            "14/14 [==============================] - 0s 2ms/step - loss: 0.1419 - accuracy: 0.9714\n",
            "Epoch 183/200\n",
            "14/14 [==============================] - 0s 2ms/step - loss: 0.0405 - accuracy: 1.0000\n",
            "Epoch 184/200\n",
            "14/14 [==============================] - 0s 2ms/step - loss: 0.1344 - accuracy: 0.9857\n",
            "Epoch 185/200\n",
            "14/14 [==============================] - 0s 2ms/step - loss: 0.0963 - accuracy: 0.9571\n",
            "Epoch 186/200\n",
            "14/14 [==============================] - 0s 2ms/step - loss: 0.1215 - accuracy: 0.9714\n",
            "Epoch 187/200\n",
            "14/14 [==============================] - 0s 2ms/step - loss: 0.1087 - accuracy: 0.9714\n",
            "Epoch 188/200\n",
            "14/14 [==============================] - 0s 2ms/step - loss: 0.1637 - accuracy: 0.9429\n",
            "Epoch 189/200\n",
            "14/14 [==============================] - 0s 2ms/step - loss: 0.1382 - accuracy: 0.9429\n",
            "Epoch 190/200\n",
            "14/14 [==============================] - 0s 2ms/step - loss: 0.1855 - accuracy: 0.9571\n",
            "Epoch 191/200\n",
            "14/14 [==============================] - 0s 2ms/step - loss: 0.1135 - accuracy: 0.9714\n",
            "Epoch 192/200\n",
            "14/14 [==============================] - 0s 2ms/step - loss: 0.0993 - accuracy: 0.9571\n",
            "Epoch 193/200\n",
            "14/14 [==============================] - 0s 2ms/step - loss: 0.0789 - accuracy: 0.9857\n",
            "Epoch 194/200\n",
            "14/14 [==============================] - 0s 2ms/step - loss: 0.1376 - accuracy: 0.9429\n",
            "Epoch 195/200\n",
            "14/14 [==============================] - 0s 2ms/step - loss: 0.0484 - accuracy: 1.0000\n",
            "Epoch 196/200\n",
            "14/14 [==============================] - 0s 2ms/step - loss: 0.2248 - accuracy: 0.9429\n",
            "Epoch 197/200\n",
            "14/14 [==============================] - 0s 2ms/step - loss: 0.1757 - accuracy: 0.9429\n",
            "Epoch 198/200\n",
            "14/14 [==============================] - 0s 2ms/step - loss: 0.1287 - accuracy: 0.9571\n",
            "Epoch 199/200\n",
            "14/14 [==============================] - 0s 2ms/step - loss: 0.0798 - accuracy: 1.0000\n",
            "Epoch 200/200\n",
            "14/14 [==============================] - 0s 2ms/step - loss: 0.2854 - accuracy: 0.9000\n"
          ]
        }
      ],
      "source": [
        "# Create model - 3 layers. First layer 128 neurons, second layer 64 neurons and 3rd output layer contains number of neurons\n",
        "# equal to number of intents to predict output intent with softmax\n",
        "model = Sequential()\n",
        "model.add(Dense(128, input_shape=(len(train_x[0]),), activation='relu'))\n",
        "model.add(Dropout(0.5))\n",
        "model.add(Dense(64, activation='relu'))\n",
        "model.add(Dropout(0.5))\n",
        "model.add(Dense(len(train_y[0]), activation='softmax'))\n",
        "\n",
        "# Compile model. Stochastic gradient descent with Nesterov accelerated gradient gives good results for this model\n",
        "sgd = SGD(lr=0.01, decay=1e-6, momentum=0.9, nesterov=True)\n",
        "model.compile(loss='categorical_crossentropy', optimizer=sgd, metrics=['accuracy'])\n",
        "\n",
        "#fitting and saving the model \n",
        "hist = model.fit(np.array(train_x), np.array(train_y), epochs=200, batch_size=5, verbose=1)\n",
        "\n",
        "#model.save('chatbot_model.h5', hist)\n",
        "model.save('model.h5', hist)\n",
        "\n",
        "#print(\"model created\")"
      ],
      "id": "H_HgACDw80ZU"
    },
    {
      "cell_type": "code",
      "execution_count": null,
      "metadata": {
        "id": "Og6FY7lH807X"
      },
      "outputs": [],
      "source": [
        "def clean_up_sentence(sentence):\n",
        "    # tokenize the pattern - split words into array\n",
        "    sentence_words = nltk.word_tokenize(sentence)\n",
        "    # stem each word - create short form for word\n",
        "    sentence_words = [lemmatizer.lemmatize(word.lower()) for word in sentence_words]\n",
        "    return sentence_words\n",
        "# return bag of words array: 0 or 1 for each word in the bag that exists in the sentence\n",
        "\n",
        "def bow(sentence, words, show_details=True):\n",
        "    # tokenize the pattern\n",
        "    sentence_words = clean_up_sentence(sentence)  #JRP ตัดคำ\n",
        "    # bag of words - matrix of N words, vocabulary matrix\n",
        "    bag = [0]*len(words) \n",
        "    for s in sentence_words:\n",
        "        for i,w in enumerate(words):\n",
        "            if w == s: \n",
        "                # assign 1 if current word is in the vocabulary position\n",
        "                bag[i] = 1\n",
        "                if show_details:\n",
        "                    print (\"found in bag: %s\" % w)\n",
        "    return(np.array(bag))\n",
        "\n",
        "def predict_class(sentence, model):\n",
        "    # filter out predictions below a threshold\n",
        "    p = bow(sentence, words,show_details=False) #JRP ตัดคำ\n",
        "    res = model.predict(np.array([p]))[0]\n",
        "    ERROR_THRESHOLD = 0.1\n",
        "    results = [[i,r] for i,r in enumerate(res) if r>ERROR_THRESHOLD]\n",
        "    # sort by strength of probability\n",
        "    results.sort(key=lambda x: x[1], reverse=True)\n",
        "    return_list = []\n",
        "    for r in results:   \n",
        "        #if r[1] > 0.5:\n",
        "          #return_list.append({\"intent\": classes[r[0]], \"probability\": str(r[1])})\n",
        "          return_list.append({\"intent\": classes[r[0]]})\n",
        "        #else:\n",
        "        #  return_list.append({\"intent\": \"H1\", \"probability\": str(r[1])})\n",
        "    return return_list"
      ],
      "id": "Og6FY7lH807X"
    },
    {
      "cell_type": "code",
      "execution_count": null,
      "metadata": {
        "id": "aftcwa4U89KO"
      },
      "outputs": [],
      "source": [
        "def getResponse(ints, intents_json):\n",
        "    tag = ints[0]['intent']\n",
        "    list_of_intents = intents_json['intents']\n",
        "    for i in list_of_intents:\n",
        "        if(i['tag']== tag):\n",
        "            result = random.choice(i['responses'])\n",
        "            break\n",
        "    return result\n",
        "\n",
        "def chatbot_response(text):\n",
        "    msg_word_cut = word_cut(text)\n",
        "    msg_word_spell = word_spell(msg_word_cut)\n",
        "    msg_word_stop = word_stop(msg_word_spell)\n",
        "    msg_ints = predict_class(msg_word_spell, model)\n",
        "    #msg_ints = predict_class(msg_word_stop, model)\n",
        "    res = getResponse(msg_ints, intents)\n",
        "\n",
        "\n",
        "    print (\"==== Result ====\")\n",
        "    print (\"+++ msg_word_cut = \",msg_word_cut)\n",
        "    print (\"+++ msg_word_spell = \",msg_word_spell) \n",
        "    print (\"+++ msg_word_stop = \",msg_word_stop) \n",
        "   #print (\"+++ msg_ints = \",msg_ints) \n",
        "    print (\"         \")\n",
        "    print (\"==== Answer ====\")\n",
        "    #t = timeit.Timer('char in text', setup='text = \"sample string\"; char = \"g\"')\n",
        "    #t.timeit()\n",
        "    return res"
      ],
      "id": "aftcwa4U89KO"
    },
    {
      "cell_type": "code",
      "execution_count": null,
      "metadata": {
        "id": "l0hmXJrz8_Te",
        "colab": {
          "base_uri": "https://localhost:8080/",
          "height": 160
        },
        "outputId": "2b31f391-6baa-400a-c76d-c5b1c327116e"
      },
      "outputs": [
        {
          "output_type": "stream",
          "name": "stdout",
          "text": [
            "1/1 [==============================] - 0s 21ms/step\n",
            "==== Result ====\n",
            "+++ msg_word_cut =  ['ไปรษณีย์']\n",
            "+++ msg_word_spell =  ไปรษณีย์\n",
            "+++ msg_word_stop =  ['ไปรษณีย์']\n",
            "         \n",
            "==== Answer ====\n"
          ]
        },
        {
          "output_type": "execute_result",
          "data": {
            "text/plain": [
              "'ทางร้านไม่มีขนส่งไปต่างประเทศค่ะ'"
            ],
            "application/vnd.google.colaboratory.intrinsic+json": {
              "type": "string"
            }
          },
          "metadata": {},
          "execution_count": 69
        }
      ],
      "source": [
        "# Let's test the model now:\n",
        "chatbot_response(\"ไปรษณีย์\")"
      ],
      "id": "l0hmXJrz8_Te"
    },
    {
      "cell_type": "code",
      "execution_count": null,
      "metadata": {
        "id": "xZvsoGt6XgKJ",
        "colab": {
          "base_uri": "https://localhost:8080/",
          "height": 160
        },
        "outputId": "83460b0f-11a3-4ab4-b695-64314f89d88f"
      },
      "outputs": [
        {
          "output_type": "stream",
          "name": "stdout",
          "text": [
            "1/1 [==============================] - 0s 29ms/step\n",
            "==== Result ====\n",
            "+++ msg_word_cut =  ['ค่า', 'เสี่ยงภัย', 'ของ', 'ไปรษณีย์', 'ไทย']\n",
            "+++ msg_word_spell =  ค่าเสี่ยงภัยของไปรษณีย์ไทย\n",
            "+++ msg_word_stop =  ['ค่า', 'เสี่ยงภัย', 'ไปรษณีย์', 'ไทย']\n",
            "         \n",
            "==== Answer ====\n"
          ]
        },
        {
          "output_type": "execute_result",
          "data": {
            "text/plain": [
              "'ไปรษณีไทยไม่มีค่าเสี่ยงภัย'"
            ],
            "application/vnd.google.colaboratory.intrinsic+json": {
              "type": "string"
            }
          },
          "metadata": {},
          "execution_count": 70
        }
      ],
      "source": [
        "chatbot_response(\"ค่าเสี่ยงภัยของไปรษณีย์ไทย\")"
      ],
      "id": "xZvsoGt6XgKJ"
    },
    {
      "cell_type": "code",
      "execution_count": null,
      "metadata": {
        "id": "117cwTRtXjFG",
        "colab": {
          "base_uri": "https://localhost:8080/",
          "height": 160
        },
        "outputId": "bf4ff8a6-51bf-4172-f37b-9b9c1f45c7ab"
      },
      "outputs": [
        {
          "output_type": "stream",
          "name": "stdout",
          "text": [
            "1/1 [==============================] - 0s 19ms/step\n",
            "==== Result ====\n",
            "+++ msg_word_cut =  ['รอบ', 'การ', 'ส่ง', 'พัสดุ']\n",
            "+++ msg_word_spell =  รอบการส่งพัสดุ\n",
            "+++ msg_word_stop =  ['รอบ', 'พัสดุ']\n",
            "         \n",
            "==== Answer ====\n"
          ]
        },
        {
          "output_type": "execute_result",
          "data": {
            "text/plain": [
              "'ทางร้านตัดรอบการจัดส่ง เวลา 14.00 น. ค่ะ'"
            ],
            "application/vnd.google.colaboratory.intrinsic+json": {
              "type": "string"
            }
          },
          "metadata": {},
          "execution_count": 71
        }
      ],
      "source": [
        "chatbot_response(\"รอบการส่งพัสดุ\")"
      ],
      "id": "117cwTRtXjFG"
    },
    {
      "cell_type": "code",
      "execution_count": null,
      "metadata": {
        "id": "Q-H6ju7JYCxQ",
        "colab": {
          "base_uri": "https://localhost:8080/",
          "height": 160
        },
        "outputId": "403fbf13-6bfa-4c29-b3d6-6563fcf08c10"
      },
      "outputs": [
        {
          "output_type": "stream",
          "name": "stdout",
          "text": [
            "1/1 [==============================] - 0s 20ms/step\n",
            "==== Result ====\n",
            "+++ msg_word_cut =  ['มี', 'ขนส่ง', 'อะไร', 'บ้าง']\n",
            "+++ msg_word_spell =  มีขนส่งอะไรบ้าง\n",
            "+++ msg_word_stop =  ['ขนส่ง']\n",
            "         \n",
            "==== Answer ====\n"
          ]
        },
        {
          "output_type": "execute_result",
          "data": {
            "text/plain": [
              "'EMS ไปรษณีย์ไทย , Flash Express , Kerry Express , J&T , DHL (ภายในประเทศ) '"
            ],
            "application/vnd.google.colaboratory.intrinsic+json": {
              "type": "string"
            }
          },
          "metadata": {},
          "execution_count": 72
        }
      ],
      "source": [
        "chatbot_response(\"มีขนส่งอะไรบ้าง\")"
      ],
      "id": "Q-H6ju7JYCxQ"
    },
    {
      "cell_type": "code",
      "execution_count": null,
      "metadata": {
        "id": "p8iLG0MJdYhV",
        "colab": {
          "base_uri": "https://localhost:8080/",
          "height": 160
        },
        "outputId": "ec8a2ded-81da-4fb7-d366-f10cfd9b09dd"
      },
      "outputs": [
        {
          "output_type": "stream",
          "name": "stdout",
          "text": [
            "1/1 [==============================] - 0s 20ms/step\n",
            "==== Result ====\n",
            "+++ msg_word_cut =  ['มี', 'บริการ', 'ปลายทาง', 'ไหม']\n",
            "+++ msg_word_spell =  มีบริการปลายทางไหม\n",
            "+++ msg_word_stop =  ['บริการ', 'ปลายทาง', 'ไหม']\n",
            "         \n",
            "==== Answer ====\n"
          ]
        },
        {
          "output_type": "execute_result",
          "data": {
            "text/plain": [
              "'ทางร้านมีบริการเก็บเงินปลายทางของ Flash , Kerry , และ Ninja Van ค่ะ'"
            ],
            "application/vnd.google.colaboratory.intrinsic+json": {
              "type": "string"
            }
          },
          "metadata": {},
          "execution_count": 73
        }
      ],
      "source": [
        "chatbot_response(\"มีบริการปลายทางไหม\")"
      ],
      "id": "p8iLG0MJdYhV"
    },
    {
      "cell_type": "code",
      "execution_count": null,
      "metadata": {
        "id": "V6EdFp9XeoRd",
        "colab": {
          "base_uri": "https://localhost:8080/",
          "height": 160
        },
        "outputId": "a9822b76-547e-4e43-e52f-f44ebac045ef"
      },
      "outputs": [
        {
          "output_type": "stream",
          "name": "stdout",
          "text": [
            "1/1 [==============================] - 0s 19ms/step\n",
            "==== Result ====\n",
            "+++ msg_word_cut =  ['ทาง', 'ร้สน', 'ส่ง', 'ไปรษณีย์', 'ได้', 'ไหม']\n",
            "+++ msg_word_spell =  ทางร้านส่งไปรษณีย์ได้ไหม\n",
            "+++ msg_word_stop =  ['ร้าน', 'ไปรษณีย์', 'ไหม']\n",
            "         \n",
            "==== Answer ====\n"
          ]
        },
        {
          "output_type": "execute_result",
          "data": {
            "text/plain": [
              "'ไปรษณีย์สามารถส่งได้ EMS และ Ecopost ค่ะ'"
            ],
            "application/vnd.google.colaboratory.intrinsic+json": {
              "type": "string"
            }
          },
          "metadata": {},
          "execution_count": 74
        }
      ],
      "source": [
        "chatbot_response(\"ทางร้สนส่งไปรษณีย์ได้ไหม\")"
      ],
      "id": "V6EdFp9XeoRd"
    },
    {
      "cell_type": "code",
      "execution_count": null,
      "metadata": {
        "id": "BkzlStteqLSz",
        "colab": {
          "base_uri": "https://localhost:8080/"
        },
        "outputId": "ac6f3dac-11b0-418b-f2bf-703d26dd1d21"
      },
      "outputs": [
        {
          "output_type": "stream",
          "name": "stdout",
          "text": [
            "3/3 [==============================] - 0s 4ms/step - loss: 6.1529e-04 - accuracy: 1.0000\n"
          ]
        }
      ],
      "source": [
        "accr = model.evaluate(train_x,train_y, verbose=1) #ทดสอบความแม่นยำของโมเดล กับ Test set ที่แยกไว้ตั้งแต่แรกอีกที \\n\","
      ],
      "id": "BkzlStteqLSz"
    }
  ],
  "metadata": {
    "colab": {
      "provenance": [],
      "include_colab_link": true
    },
    "kernelspec": {
      "display_name": "Python 3 (ipykernel)",
      "language": "python",
      "name": "python3"
    },
    "language_info": {
      "codemirror_mode": {
        "name": "ipython",
        "version": 3
      },
      "file_extension": ".py",
      "mimetype": "text/x-python",
      "name": "python",
      "nbconvert_exporter": "python",
      "pygments_lexer": "ipython3",
      "version": "3.9.12"
    }
  },
  "nbformat": 4,
  "nbformat_minor": 5
}